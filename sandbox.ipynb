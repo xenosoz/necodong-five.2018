{
 "cells": [
  {
   "cell_type": "code",
   "execution_count": 44,
   "metadata": {},
   "outputs": [],
   "source": [
    "def str_to_index(s):\n",
    "    '''\"12345!\".index(s): 1.4 micro secs / 6 calls'''\n",
    "    return ord(s) % 7"
   ]
  },
  {
   "cell_type": "code",
   "execution_count": 43,
   "metadata": {},
   "outputs": [
    {
     "name": "stdout",
     "output_type": "stream",
     "text": [
      "1.4 µs ± 13.9 ns per loop (mean ± std. dev. of 7 runs, 1000000 loops each)\n"
     ]
    }
   ],
   "source": [
    "%%timeit\n",
    "for s in '12345!':\n",
    "    x = str_to_index(s)"
   ]
  },
  {
   "cell_type": "code",
   "execution_count": 39,
   "metadata": {},
   "outputs": [
    {
     "data": {
      "text/plain": [
       "0.7193877551020408"
      ]
     },
     "execution_count": 39,
     "metadata": {},
     "output_type": "execute_result"
    }
   ],
   "source": [
    "1.41/1.96"
   ]
  },
  {
   "cell_type": "code",
   "execution_count": null,
   "metadata": {},
   "outputs": [],
   "source": []
  },
  {
   "cell_type": "code",
   "execution_count": 29,
   "metadata": {},
   "outputs": [],
   "source": [
    "def round_score(m, y):\n",
    "    '''46.2 micro sec'''\n",
    "    return (m!=y) * ((m>y) - (m<y)) * (1 - 2*((m==5)*(y&1^1) | (y==5)*(m&1^1) | (m==4)*(y==0) | (y==4)*(m==0)))"
   ]
  },
  {
   "cell_type": "code",
   "execution_count": 23,
   "metadata": {},
   "outputs": [
    {
     "data": {
      "text/plain": [
       "1338084758805431740929"
      ]
     },
     "execution_count": 23,
     "metadata": {},
     "output_type": "execute_result"
    }
   ],
   "source": [
    "def find_x():\n",
    "    x = 0\n",
    "    for m in reversed(range(6)):\n",
    "        for y in reversed(range(6)):\n",
    "            x = x << 2\n",
    "            x |= round_score(m, y) + 1\n",
    "    return x\n",
    "\n",
    "find_x()"
   ]
  },
  {
   "cell_type": "code",
   "execution_count": 31,
   "metadata": {},
   "outputs": [],
   "source": [
    "def round_score(m, y):\n",
    "    '''15.1 tlatlmicro secs / 36 calls'''\n",
    "    x = 1338084758805431740929\n",
    "    return ((x >> (m*12 + y*2)) & 0x3) - 1"
   ]
  },
  {
   "cell_type": "code",
   "execution_count": 82,
   "metadata": {},
   "outputs": [],
   "source": [
    "k = [0, 1, 2, 3, 4, 5,\n",
    "     0, 1, 2, 3, 4, 5,\n",
    "     0, 1, 2, 3, 4, 5,\n",
    "     0, 1, 2, 3, 4, 5,\n",
    "     0, 1, 2, 3, 4, 5,\n",
    "     0, 1, 2, 3, 4, 5,]\n",
    "\n",
    "def round_score(m, y):\n",
    "    '''29.3 micro sec'''\n",
    "    global k\n",
    "    return k[m * 6 + y]"
   ]
  },
  {
   "cell_type": "code",
   "execution_count": 33,
   "metadata": {},
   "outputs": [
    {
     "name": "stdout",
     "output_type": "stream",
     "text": [
      "15.9 µs ± 1.23 µs per loop (mean ± std. dev. of 7 runs, 100000 loops each)\n"
     ]
    }
   ],
   "source": [
    "%%timeit\n",
    "for m in range(6):\n",
    "    for y in range(6):\n",
    "        x = round_score(m, y)"
   ]
  },
  {
   "cell_type": "code",
   "execution_count": 30,
   "metadata": {},
   "outputs": [
    {
     "name": "stdout",
     "output_type": "stream",
     "text": [
      "X^^^<<\n",
      "<X^^^^\n",
      "<<X^^<\n",
      "<<<X^^\n",
      "^<<<X<\n",
      "^<^<^X\n",
      "CPU times: user 1.66 ms, sys: 981 µs, total: 2.64 ms\n",
      "Wall time: 1.73 ms\n"
     ]
    }
   ],
   "source": [
    "%%time\n",
    "skin = 'X<^'\n",
    "\n",
    "for m in range(6):\n",
    "    for y in range(6):\n",
    "        #print(round_score(m, y))\n",
    "        print(skin[round_score(m, y)], end='')\n",
    "    print()"
   ]
  },
  {
   "cell_type": "code",
   "execution_count": 36,
   "metadata": {},
   "outputs": [
    {
     "name": "stdout",
     "output_type": "stream",
     "text": [
      "X^^^<<\n",
      "<X^^^^\n",
      "<<X^^<\n",
      "<<<X^^\n",
      "^<<<X<\n",
      "^<^<^X\n",
      "CPU times: user 2.93 ms, sys: 2.3 ms, total: 5.22 ms\n",
      "Wall time: 3.32 ms\n"
     ]
    }
   ],
   "source": [
    "%%time\n",
    "skin = 'X<^'\n",
    "\n",
    "for m in range(6):\n",
    "    for y in range(6):\n",
    "        print(skin[round_score(m, y)], end='')\n",
    "    print()"
   ]
  },
  {
   "cell_type": "code",
   "execution_count": 35,
   "metadata": {},
   "outputs": [
    {
     "name": "stdout",
     "output_type": "stream",
     "text": [
      "CPU times: user 4 µs, sys: 1 µs, total: 5 µs\n",
      "Wall time: 9.06 µs\n"
     ]
    }
   ],
   "source": [
    "%time\n",
    "for i in range(720 * 720):\n",
    "    pass"
   ]
  },
  {
   "cell_type": "code",
   "execution_count": null,
   "metadata": {},
   "outputs": [],
   "source": []
  }
 ],
 "metadata": {
  "kernelspec": {
   "display_name": "Python 3",
   "language": "python",
   "name": "python3"
  },
  "language_info": {
   "codemirror_mode": {
    "name": "ipython",
    "version": 3
   },
   "file_extension": ".py",
   "mimetype": "text/x-python",
   "name": "python",
   "nbconvert_exporter": "python",
   "pygments_lexer": "ipython3",
   "version": "3.6.3"
  }
 },
 "nbformat": 4,
 "nbformat_minor": 2
}
